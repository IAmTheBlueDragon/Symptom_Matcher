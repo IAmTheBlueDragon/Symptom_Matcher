{
 "cells": [
  {
   "cell_type": "code",
   "execution_count": 47,
   "id": "6f7a25cc",
   "metadata": {},
   "outputs": [],
   "source": [
    "import numpy as np\n",
    "import pandas as pd\n",
    "import matplotlib.pyplot as plt\n",
    "import seaborn as sns"
   ]
  },
  {
   "cell_type": "code",
   "execution_count": 50,
   "id": "75f27817",
   "metadata": {},
   "outputs": [],
   "source": [
    "df = pd.read_csv(\"./symptoms_machine.csv\")"
   ]
  },
  {
   "cell_type": "code",
   "execution_count": 54,
   "id": "88059f95",
   "metadata": {},
   "outputs": [],
   "source": [
    "X = df.drop('Diseases',axis=1)\n",
    "y = df['Diseases']"
   ]
  },
  {
   "cell_type": "code",
   "execution_count": 55,
   "id": "834ee39c",
   "metadata": {},
   "outputs": [],
   "source": [
    "from sklearn.model_selection import train_test_split\n",
    "X_train, X_test, y_train, y_test = train_test_split(X, y, test_size=0.3, random_state=101)"
   ]
  },
  {
   "cell_type": "code",
   "execution_count": 56,
   "id": "645adbda",
   "metadata": {},
   "outputs": [],
   "source": [
    "from sklearn.ensemble import RandomForestClassifier"
   ]
  },
  {
   "cell_type": "code",
   "execution_count": 57,
   "id": "3a10783d",
   "metadata": {},
   "outputs": [],
   "source": [
    "model = RandomForestClassifier(n_estimators=10,max_features='auto')"
   ]
  },
  {
   "cell_type": "code",
   "execution_count": 58,
   "id": "cb72fa3d",
   "metadata": {},
   "outputs": [
    {
     "data": {
      "text/plain": [
       "RandomForestClassifier(n_estimators=10)"
      ]
     },
     "execution_count": 58,
     "metadata": {},
     "output_type": "execute_result"
    }
   ],
   "source": [
    "model.fit(X_train,y_train)"
   ]
  },
  {
   "cell_type": "code",
   "execution_count": 59,
   "id": "2198ab68",
   "metadata": {},
   "outputs": [],
   "source": [
    "preds = model.predict(X_test)"
   ]
  },
  {
   "cell_type": "code",
   "execution_count": 61,
   "id": "ce206de8",
   "metadata": {},
   "outputs": [],
   "source": [
    "from sklearn.metrics import f1_score,classification_report"
   ]
  },
  {
   "cell_type": "code",
   "execution_count": 62,
   "id": "699871d5",
   "metadata": {},
   "outputs": [
    {
     "data": {
      "text/plain": [
       "0.8975219826309182"
      ]
     },
     "execution_count": 62,
     "metadata": {},
     "output_type": "execute_result"
    }
   ],
   "source": [
    "f1_score(y_test, preds, average='macro')"
   ]
  },
  {
   "cell_type": "code",
   "execution_count": 63,
   "id": "56adc6c0",
   "metadata": {},
   "outputs": [
    {
     "name": "stdout",
     "output_type": "stream",
     "text": [
      "                                               precision    recall  f1-score   support\n",
      "\n",
      "                                     AIDS/HIV       1.00      1.00      1.00        23\n",
      "                                    Amebiasis       1.00      1.00      1.00        23\n",
      "                                      Anthrax       1.00      1.00      1.00        28\n",
      "                                   Babesiosis       1.00      1.00      1.00        29\n",
      "                                     Bird flu       1.00      1.00      1.00        28\n",
      "                                     Botulism       0.97      1.00      0.98        28\n",
      "                                  Brucellosis       1.00      1.00      1.00        23\n",
      "                      Campylobacter infection       1.00      1.00      1.00        26\n",
      "                                    Chancroid       0.96      1.00      0.98        25\n",
      "                                   Chickenpox       1.00      1.00      1.00        30\n",
      "                         Chlamydia infections       1.00      1.00      1.00        26\n",
      "                                      Cholera       0.94      1.00      0.97        30\n",
      "                     Ciguatera Fish Poisoning       1.00      1.00      1.00        20\n",
      "                           Coccidioidomycosis       1.00      1.00      1.00        22\n",
      "                          Colorado Tick Fever       1.00      1.00      1.00        18\n",
      "                                  Coronavirus       1.00      1.00      1.00        21\n",
      "                            Cryptosporidiosis       1.00      1.00      1.00        29\n",
      "                                Cysticercosis       0.82      0.68      0.74        40\n",
      "                                 Dengue Fever       0.41      1.00      0.58        16\n",
      "                                   Diphtheria       0.97      0.97      0.97        31\n",
      "                        Domoic Acid Poisoning       1.00      1.00      1.00        20\n",
      "                           E. coli Infections       1.00      0.97      0.98        32\n",
      "                                 Ebola Virus�       1.00      1.00      1.00        25\n",
      "                                 Ehrlichiosis       1.00      1.00      1.00        25\n",
      "                                         Flu        1.00      1.00      1.00        18\n",
      "                       Gastroenteritis, Viral       1.00      1.00      1.00        32\n",
      "                               German Measles       0.92      1.00      0.96        24\n",
      "                            Giardia Infection       1.00      0.94      0.97        35\n",
      "                                     Glanders       1.00      0.97      0.98        32\n",
      "                         Gonococcal Infection       0.29      0.97      0.44        30\n",
      "                                    Gonorrhea       1.00      1.00      1.00        22\n",
      "   Haemophilus Influenzae Serotype B Disease        1.00      1.00      1.00        27\n",
      "                  Hand-Foot-and-Mouth Disease       0.94      1.00      0.97        29\n",
      "                        Hantavirus Infections       0.95      0.90      0.93        21\n",
      "                                  Hepatitis A       0.90      1.00      0.95        19\n",
      "                                  Hepatitis B       0.00      0.00      0.00        31\n",
      "                                  Hepatitis C       0.39      1.00      0.56        20\n",
      "                Human Immunodeficiency Virus        0.85      0.88      0.86        25\n",
      "                                   Influenza        1.00      1.00      1.00        28\n",
      "                                  Lassa Fever       1.00      1.00      1.00        26\n",
      "                               Legionellosis        1.00      1.00      1.00        20\n",
      "                                     Leprosy        0.96      0.65      0.78        40\n",
      "                                Leptospirosis       1.00      1.00      1.00        26\n",
      "                                  Listeriosis       1.00      1.00      1.00        34\n",
      "                     Lymphogranuloma Venereum       1.00      1.00      1.00        22\n",
      "                                      Malaria       0.96      1.00      0.98        27\n",
      "             Marburg Virus Hemorrhagic Fever�       1.00      1.00      1.00        27\n",
      "                                      Measles       1.00      0.96      0.98        24\n",
      "                                  Melioidosis       1.00      1.00      1.00        28\n",
      "                                   Meningitis       0.00      0.00      0.00        23\n",
      "                        Meningococcal disease       1.00      0.97      0.98        31\n",
      "Middle East Respiratory Syndrome Coronavirus        0.87      1.00      0.93        20\n",
      "                                   Monkeypox        1.00      1.00      1.00        23\n",
      "                                        Mumps       1.00      1.00      1.00        21\n",
      "                    Non-Gonococcal Urethritis       0.00      0.00      0.00        35\n",
      "                         Norovirus infection        1.00      1.00      1.00        21\n",
      "                           Novel Coronavirus        0.85      0.85      0.85        26\n",
      "                Paralytic Shellfish Poisoning       1.00      0.83      0.90        46\n",
      "                                   Pertussis        1.00      0.96      0.98        28\n",
      "                                       Plague       1.00      1.00      1.00        25\n",
      "                         Pneumococcal Disease       1.00      1.00      1.00        15\n",
      "                                       Polio        1.00      1.00      1.00        28\n",
      "                                  Psittacosis       1.00      1.00      1.00        30\n",
      "                                       Rabies       1.00      0.94      0.97        33\n",
      "                              Relapsing Fever       1.00      1.00      1.00        26\n",
      "                 Rocky Mountain Spotted Fever       1.00      1.00      1.00        27\n",
      "                                     Rubella        1.00      1.00      1.00        31\n",
      "                                Salmonellosis       0.00      0.00      0.00        23\n",
      "                     Scombroid fish poisoning       1.00      0.95      0.97        20\n",
      "                                  Shigellosis       0.00      0.00      0.00        36\n",
      "                                     Smallpox       1.00      1.00      1.00        25\n",
      "                                     Syphilis       0.96      0.81      0.88        27\n",
      "                                      Tetanus       1.00      1.00      1.00        20\n",
      "                                Toxoplasmosis       0.96      0.69      0.80        35\n",
      "                                 Trichinosis        1.00      1.00      1.00        27\n",
      "                                 Tuberculosis       1.00      1.00      1.00        26\n",
      "                                    Tularemia       1.00      1.00      1.00        15\n",
      "                                Typhoid fever       1.00      1.00      1.00        29\n",
      "                                       Typhus       1.00      1.00      1.00        28\n",
      "                                   Varicella        1.00      1.00      1.00        28\n",
      "          Viral Gastroenteritis and Norovirus       1.00      1.00      1.00        26\n",
      "                              West Nile Virus       1.00      1.00      1.00        26\n",
      "                              Whooping cough        1.00      0.97      0.98        29\n",
      "                                 Yellow Fever       1.00      1.00      1.00        21\n",
      "                                 Yersiniosis        0.25      1.00      0.40        20\n",
      "                                   Zika Virus       1.00      0.93      0.96        28\n",
      "\n",
      "                                     accuracy                           0.90      2263\n",
      "                                    macro avg       0.90      0.92      0.90      2263\n",
      "                                 weighted avg       0.89      0.90      0.89      2263\n",
      "\n"
     ]
    },
    {
     "name": "stderr",
     "output_type": "stream",
     "text": [
      "C:\\Users\\Lenovo\\anaconda3\\lib\\site-packages\\sklearn\\metrics\\_classification.py:1245: UndefinedMetricWarning: Precision and F-score are ill-defined and being set to 0.0 in labels with no predicted samples. Use `zero_division` parameter to control this behavior.\n",
      "  _warn_prf(average, modifier, msg_start, len(result))\n",
      "C:\\Users\\Lenovo\\anaconda3\\lib\\site-packages\\sklearn\\metrics\\_classification.py:1245: UndefinedMetricWarning: Precision and F-score are ill-defined and being set to 0.0 in labels with no predicted samples. Use `zero_division` parameter to control this behavior.\n",
      "  _warn_prf(average, modifier, msg_start, len(result))\n",
      "C:\\Users\\Lenovo\\anaconda3\\lib\\site-packages\\sklearn\\metrics\\_classification.py:1245: UndefinedMetricWarning: Precision and F-score are ill-defined and being set to 0.0 in labels with no predicted samples. Use `zero_division` parameter to control this behavior.\n",
      "  _warn_prf(average, modifier, msg_start, len(result))\n"
     ]
    }
   ],
   "source": [
    "print(classification_report(y_test,preds))"
   ]
  },
  {
   "cell_type": "code",
   "execution_count": null,
   "id": "04150152",
   "metadata": {},
   "outputs": [],
   "source": []
  }
 ],
 "metadata": {
  "kernelspec": {
   "display_name": "Python 3",
   "language": "python",
   "name": "python3"
  },
  "language_info": {
   "codemirror_mode": {
    "name": "ipython",
    "version": 3
   },
   "file_extension": ".py",
   "mimetype": "text/x-python",
   "name": "python",
   "nbconvert_exporter": "python",
   "pygments_lexer": "ipython3",
   "version": "3.8.8"
  }
 },
 "nbformat": 4,
 "nbformat_minor": 5
}
